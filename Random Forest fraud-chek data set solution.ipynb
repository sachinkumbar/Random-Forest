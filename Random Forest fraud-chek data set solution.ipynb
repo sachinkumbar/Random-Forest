{
 "cells": [
  {
   "cell_type": "code",
   "execution_count": 1,
   "id": "69c5ce7f",
   "metadata": {},
   "outputs": [],
   "source": [
    "import numpy as np\n",
    "import pandas as pd\n"
   ]
  },
  {
   "cell_type": "code",
   "execution_count": 2,
   "id": "d2f5d38c",
   "metadata": {},
   "outputs": [],
   "source": [
    "\n",
    "fraud=pd.read_csv('Fraud_check.csv')\n",
    "fraud.columns\n",
    "fraud.columns=['under_grad','marital_status','taxable_income','city_pop','work_exp','urban']"
   ]
  },
  {
   "cell_type": "code",
   "execution_count": 3,
   "id": "ae118786",
   "metadata": {},
   "outputs": [
    {
     "data": {
      "text/html": [
       "<div>\n",
       "<style scoped>\n",
       "    .dataframe tbody tr th:only-of-type {\n",
       "        vertical-align: middle;\n",
       "    }\n",
       "\n",
       "    .dataframe tbody tr th {\n",
       "        vertical-align: top;\n",
       "    }\n",
       "\n",
       "    .dataframe thead th {\n",
       "        text-align: right;\n",
       "    }\n",
       "</style>\n",
       "<table border=\"1\" class=\"dataframe\">\n",
       "  <thead>\n",
       "    <tr style=\"text-align: right;\">\n",
       "      <th></th>\n",
       "      <th>under_grad</th>\n",
       "      <th>marital_status</th>\n",
       "      <th>taxable_income</th>\n",
       "      <th>city_pop</th>\n",
       "      <th>work_exp</th>\n",
       "      <th>urban</th>\n",
       "    </tr>\n",
       "  </thead>\n",
       "  <tbody>\n",
       "    <tr>\n",
       "      <th>0</th>\n",
       "      <td>NO</td>\n",
       "      <td>Single</td>\n",
       "      <td>68833</td>\n",
       "      <td>50047</td>\n",
       "      <td>10</td>\n",
       "      <td>YES</td>\n",
       "    </tr>\n",
       "    <tr>\n",
       "      <th>1</th>\n",
       "      <td>YES</td>\n",
       "      <td>Divorced</td>\n",
       "      <td>33700</td>\n",
       "      <td>134075</td>\n",
       "      <td>18</td>\n",
       "      <td>YES</td>\n",
       "    </tr>\n",
       "    <tr>\n",
       "      <th>2</th>\n",
       "      <td>NO</td>\n",
       "      <td>Married</td>\n",
       "      <td>36925</td>\n",
       "      <td>160205</td>\n",
       "      <td>30</td>\n",
       "      <td>YES</td>\n",
       "    </tr>\n",
       "    <tr>\n",
       "      <th>3</th>\n",
       "      <td>YES</td>\n",
       "      <td>Single</td>\n",
       "      <td>50190</td>\n",
       "      <td>193264</td>\n",
       "      <td>15</td>\n",
       "      <td>YES</td>\n",
       "    </tr>\n",
       "    <tr>\n",
       "      <th>4</th>\n",
       "      <td>NO</td>\n",
       "      <td>Married</td>\n",
       "      <td>81002</td>\n",
       "      <td>27533</td>\n",
       "      <td>28</td>\n",
       "      <td>NO</td>\n",
       "    </tr>\n",
       "  </tbody>\n",
       "</table>\n",
       "</div>"
      ],
      "text/plain": [
       "  under_grad marital_status  taxable_income  city_pop  work_exp urban\n",
       "0         NO         Single           68833     50047        10   YES\n",
       "1        YES       Divorced           33700    134075        18   YES\n",
       "2         NO        Married           36925    160205        30   YES\n",
       "3        YES         Single           50190    193264        15   YES\n",
       "4         NO        Married           81002     27533        28    NO"
      ]
     },
     "execution_count": 3,
     "metadata": {},
     "output_type": "execute_result"
    }
   ],
   "source": [
    "fraud.head()"
   ]
  },
  {
   "cell_type": "code",
   "execution_count": 4,
   "id": "c309c813",
   "metadata": {},
   "outputs": [
    {
     "data": {
      "text/plain": [
       "0      68833\n",
       "1      33700\n",
       "2      36925\n",
       "3      50190\n",
       "4      81002\n",
       "       ...  \n",
       "595    76340\n",
       "596    69967\n",
       "597    47334\n",
       "598    98592\n",
       "599    96519\n",
       "Name: taxable_income, Length: 600, dtype: int64"
      ]
     },
     "execution_count": 4,
     "metadata": {},
     "output_type": "execute_result"
    }
   ],
   "source": [
    "cut_labels=['Risky','Good']\n",
    "cut_bins=[0,30000,99620]\n",
    "fraud['tax_inc']=pd.cut(fraud['taxable_income'],bins=cut_bins,labels=cut_labels)\n",
    "fraud.pop('taxable_income')"
   ]
  },
  {
   "cell_type": "code",
   "execution_count": 5,
   "id": "7365e276",
   "metadata": {},
   "outputs": [],
   "source": [
    "from sklearn import preprocessing\n",
    "label_encoder=preprocessing.LabelEncoder()\n",
    "fraud['under_grad']=label_encoder.fit_transform(fraud['under_grad'])\n",
    "fraud['marital_status']=label_encoder.fit_transform(fraud['marital_status'])\n",
    "fraud['urban']=label_encoder.fit_transform(fraud['urban'])"
   ]
  },
  {
   "cell_type": "code",
   "execution_count": 12,
   "id": "8377217a",
   "metadata": {},
   "outputs": [],
   "source": [
    "array=fraud.values\n",
    "X=array[:,0:5]\n",
    "Y=array[:,5]\n",
    "#splitting data using K-Fold cross validation\n",
    "from sklearn.model_selection import KFold\n",
    "from sklearn.model_selection import cross_val_score\n",
    "kfold=KFold(n_splits=10,random_state=None)\n"
   ]
  },
  {
   "cell_type": "code",
   "execution_count": 13,
   "id": "577e5e3e",
   "metadata": {},
   "outputs": [
    {
     "name": "stdout",
     "output_type": "stream",
     "text": [
      "0.7433333333333333\n"
     ]
    }
   ],
   "source": [
    "from sklearn.ensemble import RandomForestClassifier\n",
    "model=RandomForestClassifier(n_estimators=100,max_features=3)\n",
    "results=cross_val_score(model,X,Y,cv=kfold)\n",
    "print(results.mean())#74.66\n",
    " \n",
    "\n"
   ]
  },
  {
   "cell_type": "code",
   "execution_count": null,
   "id": "18790a2c",
   "metadata": {},
   "outputs": [],
   "source": []
  }
 ],
 "metadata": {
  "kernelspec": {
   "display_name": "Python 3",
   "language": "python",
   "name": "python3"
  },
  "language_info": {
   "codemirror_mode": {
    "name": "ipython",
    "version": 3
   },
   "file_extension": ".py",
   "mimetype": "text/x-python",
   "name": "python",
   "nbconvert_exporter": "python",
   "pygments_lexer": "ipython3",
   "version": "3.8.8"
  }
 },
 "nbformat": 4,
 "nbformat_minor": 5
}
